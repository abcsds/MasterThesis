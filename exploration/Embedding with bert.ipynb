{
 "cells": [
  {
   "cell_type": "code",
   "execution_count": 1,
   "metadata": {},
   "outputs": [
    {
     "name": "stdout",
     "output_type": "stream",
     "text": [
      "Vocab file is not found. Downloading.\n",
      "Downloading /root/.mxnet/models/book_corpus_wiki_en_cased-2d62af22.zip from https://apache-mxnet.s3-accelerate.dualstack.amazonaws.com/gluon/dataset/vocab/book_corpus_wiki_en_cased-2d62af22.zip...\n",
      "Downloading /root/.mxnet/models/bert_24_1024_16_book_corpus_wiki_en_cased-4e685a96.zip from https://apache-mxnet.s3-accelerate.dualstack.amazonaws.com/gluon/models/bert_24_1024_16_book_corpus_wiki_en_cased-4e685a96.zip...\n"
     ]
    }
   ],
   "source": [
    "import csv\n",
    "import json\n",
    "import numpy as np\n",
    "from bert_embedding import BertEmbedding\n",
    "\n",
    "\n",
    "bert_embedding = BertEmbedding(model='bert_24_1024_16', dataset_name='book_corpus_wiki_en_cased')\n",
    "\n",
    "\n",
    "def embed_and_save(X, Y, outpath):\n",
    "    E = np.array([np.mean(t[1], axis=0) for t in bert_embedding(X)])\n",
    "    with open(outpath, 'w', newline='') as f:\n",
    "        fieldnames = [f\"d{i}\" for i in range(len(E[0]))] + ['emotion']\n",
    "        writer = csv.DictWriter(f, fieldnames=fieldnames)\n",
    "\n",
    "        writer.writeheader()\n",
    "        for e, l in zip(E, Y):\n",
    "            writer.writerow(dict({f\"d{i}\": ei for i, ei in enumerate(e)}, **{'emotion': l}))"
   ]
  },
  {
   "cell_type": "markdown",
   "metadata": {},
   "source": [
    "# Crowdflower"
   ]
  },
  {
   "cell_type": "markdown",
   "metadata": {},
   "source": [
    "Read the data and labels"
   ]
  },
  {
   "cell_type": "code",
   "execution_count": 2,
   "metadata": {},
   "outputs": [],
   "source": [
    "inpath = \"../data/CrowdFlower/text_emotion.csv\"\n",
    "header = [\"tweet_id\", \"sentiment\", \"author\", \"content\"]\n",
    "\n",
    "X = []\n",
    "Y = []\n",
    "with open(inpath, 'r', newline='') as f:\n",
    "    reader = csv.DictReader(f)\n",
    "    for row in reader:\n",
    "        X += [row[\"content\"]]\n",
    "        Y += [row[\"sentiment\"]]\n",
    "X = np.array(X)\n",
    "Y = np.array(Y)"
   ]
  },
  {
   "cell_type": "code",
   "execution_count": 3,
   "metadata": {},
   "outputs": [
    {
     "name": "stdout",
     "output_type": "stream",
     "text": [
      "CPU times: user 4h 1min 47s, sys: 16min 21s, total: 4h 18min 9s\n",
      "Wall time: 1h 7min 43s\n"
     ]
    }
   ],
   "source": [
    "%time E = np.array([np.mean(t[1], axis=0) for t in bert_embedding(X)])"
   ]
  },
  {
   "cell_type": "code",
   "execution_count": 4,
   "metadata": {},
   "outputs": [],
   "source": [
    "outpath = \"../data/CrowdFlower/BERT/embeddings.csv\"\n",
    "with open(outpath, 'w', newline='') as f:\n",
    "    fieldnames = [f\"d{i}\" for i in range(len(E[0]))] + ['emotion']\n",
    "    writer = csv.DictWriter(f, fieldnames=fieldnames)\n",
    "\n",
    "    writer.writeheader()\n",
    "    for e, l in zip(E, Y):\n",
    "        writer.writerow(dict({f\"d{i}\": ei for i, ei in enumerate(e)}, **{'emotion': l}))"
   ]
  },
  {
   "cell_type": "markdown",
   "metadata": {},
   "source": [
    "Embed"
   ]
  },
  {
   "cell_type": "code",
   "execution_count": 10,
   "metadata": {},
   "outputs": [
    {
     "name": "stdout",
     "output_type": "stream",
     "text": [
      "CPU times: user 3h 57min 7s, sys: 13min 11s, total: 4h 10min 18s\n",
      "Wall time: 1h 5min 33s\n"
     ]
    }
   ],
   "source": [
    "# %time embed_and_save(X, Y, \"../data/CrowdFlower/BERT/embeddings.csv\")"
   ]
  },
  {
   "cell_type": "markdown",
   "metadata": {},
   "source": [
    "# EmotionPush"
   ]
  },
  {
   "cell_type": "code",
   "execution_count": 2,
   "metadata": {},
   "outputs": [],
   "source": [
    "path1 = \"../data/EmotionPush/emotionpush.dev.json\"\n",
    "path2 = \"../data/EmotionPush/emotionpush.test.json\"\n",
    "path3 = \"../data/EmotionPush/emotionpush.train.json\"\n",
    "\n",
    "Y = []\n",
    "X = []\n",
    "data = {}\n",
    "for path in [path1, path2, path3]:\n",
    "    with open(path, 'r') as f:\n",
    "        json_data = f.read()\n",
    "        data = json.loads(json_data)\n",
    "\n",
    "    for doc in data:\n",
    "        for sent in doc:\n",
    "            Y.append(sent[\"emotion\"])\n",
    "            X.append(sent[\"utterance\"])\n",
    "assert len(X) == len(Y)"
   ]
  },
  {
   "cell_type": "code",
   "execution_count": 3,
   "metadata": {},
   "outputs": [
    {
     "name": "stderr",
     "output_type": "stream",
     "text": [
      "/usr/local/lib/python3.6/dist-packages/numpy/core/fromnumeric.py:3335: RuntimeWarning: Mean of empty slice.\n",
      "  out=out, **kwargs)\n",
      "/usr/local/lib/python3.6/dist-packages/numpy/core/_methods.py:161: RuntimeWarning: invalid value encountered in double_scalars\n",
      "  ret = ret.dtype.type(ret / rcount)\n"
     ]
    },
    {
     "name": "stdout",
     "output_type": "stream",
     "text": [
      "CPU times: user 1h 28min 35s, sys: 5min 25s, total: 1h 34min 1s\n",
      "Wall time: 24min 31s\n"
     ]
    }
   ],
   "source": [
    "%time E = np.array([np.mean(t[1], axis=0) for t in bert_embedding(X)])"
   ]
  },
  {
   "cell_type": "code",
   "execution_count": 6,
   "metadata": {},
   "outputs": [
    {
     "data": {
      "text/plain": [
       "(14742,)"
      ]
     },
     "execution_count": 6,
     "metadata": {},
     "output_type": "execute_result"
    }
   ],
   "source": [
    "E.shape"
   ]
  },
  {
   "cell_type": "code",
   "execution_count": 17,
   "metadata": {},
   "outputs": [],
   "source": [
    "outpath = \"../data/EmotionPush/BERT/embeddings.csv\"\n",
    "with open(outpath, 'w', newline='') as f:\n",
    "    fieldnames = [f\"d{i}\" for i in range(len(E[0]))] + ['emotion']\n",
    "    writer = csv.DictWriter(f, fieldnames=fieldnames)\n",
    "\n",
    "    writer.writeheader()\n",
    "    for e, l in zip(E, Y):\n",
    "        try:\n",
    "            writer.writerow(dict({f\"d{i}\": ei for i, ei in enumerate(e)}, **{'emotion': l}))\n",
    "        except TypeError:\n",
    "            writer.writerow(dict({f\"d{i}\": 0 for i in range(1024)}, **{'emotion': l}))"
   ]
  },
  {
   "cell_type": "code",
   "execution_count": null,
   "metadata": {},
   "outputs": [],
   "source": [
    "# %time embed_and_save(X, Y, \"../data/EmotionPush/BERT/embeddings.csv\")"
   ]
  },
  {
   "cell_type": "markdown",
   "metadata": {},
   "source": [
    "# Friends"
   ]
  },
  {
   "cell_type": "code",
   "execution_count": null,
   "metadata": {},
   "outputs": [],
   "source": [
    "path = \"../data/Friends/Friends/friends.json\"\n",
    "\n",
    "with open(path, 'r') as f:\n",
    "    json_data = f.read()\n",
    "    data = json.loads(json_data)\n",
    "\n",
    "Y = []\n",
    "X = []\n",
    "for doc in data:\n",
    "    for sent in doc:\n",
    "        Y.append(sent[\"emotion\"])\n",
    "        X.append(sent[\"utterance\"])\n",
    "assert len(X) == len(Y)"
   ]
  },
  {
   "cell_type": "code",
   "execution_count": null,
   "metadata": {},
   "outputs": [],
   "source": [
    "%time E = np.array([np.mean(t[1], axis=0) for t in bert_embedding(X)])"
   ]
  },
  {
   "cell_type": "code",
   "execution_count": null,
   "metadata": {},
   "outputs": [],
   "source": [
    "E.shape"
   ]
  },
  {
   "cell_type": "code",
   "execution_count": null,
   "metadata": {},
   "outputs": [],
   "source": [
    "outpath = \"../data/Friends/BERT/embeddings.csv\"\n",
    "with open(outpath, 'w', newline='') as f:\n",
    "    fieldnames = [f\"d{i}\" for i in range(len(E[0]))] + ['emotion']\n",
    "    writer = csv.DictWriter(f, fieldnames=fieldnames)\n",
    "\n",
    "    writer.writeheader()\n",
    "    for e, l in zip(E, Y):\n",
    "        writer.writerow(dict({f\"d{i}\": ei for i, ei in enumerate(e)}, **{'emotion': l}))"
   ]
  },
  {
   "cell_type": "code",
   "execution_count": 29,
   "metadata": {},
   "outputs": [
    {
     "name": "stdout",
     "output_type": "stream",
     "text": [
      "CPU times: user 1h 26min 40s, sys: 5min 3s, total: 1h 31min 44s\n",
      "Wall time: 24min 9s\n"
     ]
    }
   ],
   "source": [
    "# %time embed_and_save(X, Y, \"../data/Friends/BERT/embeddings.csv\")"
   ]
  },
  {
   "cell_type": "code",
   "execution_count": null,
   "metadata": {},
   "outputs": [],
   "source": []
  }
 ],
 "metadata": {
  "kernelspec": {
   "display_name": "Python 3",
   "language": "python",
   "name": "python3"
  },
  "language_info": {
   "codemirror_mode": {
    "name": "ipython",
    "version": 3
   },
   "file_extension": ".py",
   "mimetype": "text/x-python",
   "name": "python",
   "nbconvert_exporter": "python",
   "pygments_lexer": "ipython3",
   "version": "3.6.9"
  }
 },
 "nbformat": 4,
 "nbformat_minor": 4
}
